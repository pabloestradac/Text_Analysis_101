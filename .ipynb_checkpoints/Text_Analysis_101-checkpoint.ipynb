{
 "cells": [
  {
   "cell_type": "markdown",
   "metadata": {},
   "source": [
    "# Text Mining and Analysis"
   ]
  },
  {
   "cell_type": "code",
   "execution_count": 2,
   "metadata": {},
   "outputs": [],
   "source": [
    "from nltk.corpus import stopwords\n",
    "import gensim\n",
    "from gensim.utils import simple_preprocess\n",
    "from gensim.parsing.preprocessing import STOPWORDS\n",
    "\n",
    "from sklearn import model_selection, preprocessing, naive_bayes, metrics\n",
    "from sklearn.feature_extraction.text import TfidfVectorizer, CountVectorizer\n",
    "from sklearn import ensemble\n",
    "\n",
    "import pandas as pd\n",
    "import numpy as np"
   ]
  },
  {
   "cell_type": "code",
   "execution_count": 5,
   "metadata": {},
   "outputs": [
    {
     "data": {
      "text/html": [
       "<div>\n",
       "<style scoped>\n",
       "    .dataframe tbody tr th:only-of-type {\n",
       "        vertical-align: middle;\n",
       "    }\n",
       "\n",
       "    .dataframe tbody tr th {\n",
       "        vertical-align: top;\n",
       "    }\n",
       "\n",
       "    .dataframe thead th {\n",
       "        text-align: right;\n",
       "    }\n",
       "</style>\n",
       "<table border=\"1\" class=\"dataframe\">\n",
       "  <thead>\n",
       "    <tr style=\"text-align: right;\">\n",
       "      <th></th>\n",
       "      <th>category</th>\n",
       "      <th>headline</th>\n",
       "      <th>first_paragraph</th>\n",
       "    </tr>\n",
       "  </thead>\n",
       "  <tbody>\n",
       "    <tr>\n",
       "      <th>0</th>\n",
       "      <td>polit</td>\n",
       "      <td>Trump's Crackdown On Immigrant Parents Puts Mo...</td>\n",
       "      <td>Last month a Health and Human Services officia...</td>\n",
       "    </tr>\n",
       "    <tr>\n",
       "      <th>1</th>\n",
       "      <td>polit</td>\n",
       "      <td>Trump's Son Should Be Concerned': FBI Obtained...</td>\n",
       "      <td>The wiretaps feature conversations between Ale...</td>\n",
       "    </tr>\n",
       "    <tr>\n",
       "      <th>2</th>\n",
       "      <td>polit</td>\n",
       "      <td>Edward Snowden: There's No One Trump Loves Mor...</td>\n",
       "      <td>But don't count on Robert Mueller to nail him,...</td>\n",
       "    </tr>\n",
       "    <tr>\n",
       "      <th>3</th>\n",
       "      <td>polit</td>\n",
       "      <td>Booyah: Obama Photographer Hilariously Trolls ...</td>\n",
       "      <td>Just a peeping minute.</td>\n",
       "    </tr>\n",
       "    <tr>\n",
       "      <th>4</th>\n",
       "      <td>polit</td>\n",
       "      <td>Ireland Votes To Repeal Abortion Amendment In ...</td>\n",
       "      <td>Irish women will no longer have to travel to t...</td>\n",
       "    </tr>\n",
       "  </tbody>\n",
       "</table>\n",
       "</div>"
      ],
      "text/plain": [
       "  category                                           headline  \\\n",
       "0    polit  Trump's Crackdown On Immigrant Parents Puts Mo...   \n",
       "1    polit  Trump's Son Should Be Concerned': FBI Obtained...   \n",
       "2    polit  Edward Snowden: There's No One Trump Loves Mor...   \n",
       "3    polit  Booyah: Obama Photographer Hilariously Trolls ...   \n",
       "4    polit  Ireland Votes To Repeal Abortion Amendment In ...   \n",
       "\n",
       "                                     first_paragraph  \n",
       "0  Last month a Health and Human Services officia...  \n",
       "1  The wiretaps feature conversations between Ale...  \n",
       "2  But don't count on Robert Mueller to nail him,...  \n",
       "3                             Just a peeping minute.  \n",
       "4  Irish women will no longer have to travel to t...  "
      ]
     },
     "execution_count": 5,
     "metadata": {},
     "output_type": "execute_result"
    }
   ],
   "source": [
    "df_news = pd.read_csv(\"training_news.csv\", encoding=\"latin1\")\n",
    "df_news.head()"
   ]
  },
  {
   "cell_type": "code",
   "execution_count": 6,
   "metadata": {},
   "outputs": [
    {
     "data": {
      "text/plain": [
       "polit       484\n",
       "health      433\n",
       "economi     389\n",
       "crime       385\n",
       "other       318\n",
       "educ        313\n",
       "unemploy    194\n",
       "corrupt     130\n",
       "hunger       23\n",
       "Name: category, dtype: int64"
      ]
     },
     "execution_count": 6,
     "metadata": {},
     "output_type": "execute_result"
    }
   ],
   "source": [
    "df_news.category.value_counts()"
   ]
  },
  {
   "cell_type": "code",
   "execution_count": 7,
   "metadata": {},
   "outputs": [
    {
     "name": "stdout",
     "output_type": "stream",
     "text": [
      "EMILYâs List-Backed Lawyer Wins Democratic Primary In Pennsylvania Swing District\n",
      "['emilyâ', 'list', 'backed', 'lawyer', 'wins', 'democratic', 'primary', 'in', 'pennsylvania', 'swing', 'district']\n"
     ]
    }
   ],
   "source": [
    "sample_news = df_news[\"headline\"][100]\n",
    "\n",
    "print(sample_news)\n",
    "print(gensim.utils.simple_preprocess(sample_news))"
   ]
  },
  {
   "cell_type": "code",
   "execution_count": 8,
   "metadata": {},
   "outputs": [],
   "source": [
    "# English version\n",
    "stoplist = gensim.parsing.preprocessing.STOPWORDS\n",
    "\n",
    "def preprocess(text):\n",
    "    result = []\n",
    "    for token in gensim.utils.simple_preprocess(text):\n",
    "        if token not in stoplist and len(token) > 3:\n",
    "            result.append(token) \n",
    "    result = \" \".join(result)\n",
    "    return result"
   ]
  },
  {
   "cell_type": "code",
   "execution_count": 9,
   "metadata": {},
   "outputs": [
    {
     "name": "stdout",
     "output_type": "stream",
     "text": [
      "EMILYâs List-Backed Lawyer Wins Democratic Primary In Pennsylvania Swing District\n",
      "emilyâ list backed lawyer wins democratic primary pennsylvania swing district\n"
     ]
    }
   ],
   "source": [
    "print(sample_news)\n",
    "print(preprocess(sample_news))"
   ]
  },
  {
   "cell_type": "code",
   "execution_count": 10,
   "metadata": {},
   "outputs": [
    {
     "data": {
      "text/html": [
       "<div>\n",
       "<style scoped>\n",
       "    .dataframe tbody tr th:only-of-type {\n",
       "        vertical-align: middle;\n",
       "    }\n",
       "\n",
       "    .dataframe tbody tr th {\n",
       "        vertical-align: top;\n",
       "    }\n",
       "\n",
       "    .dataframe thead th {\n",
       "        text-align: right;\n",
       "    }\n",
       "</style>\n",
       "<table border=\"1\" class=\"dataframe\">\n",
       "  <thead>\n",
       "    <tr style=\"text-align: right;\">\n",
       "      <th></th>\n",
       "      <th>category</th>\n",
       "      <th>headline</th>\n",
       "      <th>first_paragraph</th>\n",
       "      <th>clean_text</th>\n",
       "    </tr>\n",
       "  </thead>\n",
       "  <tbody>\n",
       "    <tr>\n",
       "      <th>2613</th>\n",
       "      <td>polit</td>\n",
       "      <td>The Venezuelan government escaped a condemnati...</td>\n",
       "      <td>NaN</td>\n",
       "      <td>venezuelan government escaped condemnation gen...</td>\n",
       "    </tr>\n",
       "    <tr>\n",
       "      <th>118</th>\n",
       "      <td>polit</td>\n",
       "      <td>South Dakota Congressional Candidate Said Terr...</td>\n",
       "      <td>State Sen. Neal Tapio was the state director f...</td>\n",
       "      <td>south dakota congressional candidate said terr...</td>\n",
       "    </tr>\n",
       "    <tr>\n",
       "      <th>904</th>\n",
       "      <td>economi</td>\n",
       "      <td>Chamber welcomes Budget measures</td>\n",
       "      <td>\"Following the delivery of the National Budget...</td>\n",
       "      <td>chamber welcomes budget measures</td>\n",
       "    </tr>\n",
       "    <tr>\n",
       "      <th>1516</th>\n",
       "      <td>other</td>\n",
       "      <td>Chile Ã¯Â¿Â½Ã¯Â¿Â½ World Ã¯Â¿Â½Ã¯Â¿Â½ Technolo...</td>\n",
       "      <td>NaN</td>\n",
       "      <td>chile world technology education documents mul...</td>\n",
       "    </tr>\n",
       "    <tr>\n",
       "      <th>89</th>\n",
       "      <td>polit</td>\n",
       "      <td>Retiring Lawmakers Have Added $32.8 Million To...</td>\n",
       "      <td>By Frank Bass, MapLight More than five dozen c...</td>\n",
       "      <td>retiring lawmakers added million campaign trea...</td>\n",
       "    </tr>\n",
       "  </tbody>\n",
       "</table>\n",
       "</div>"
      ],
      "text/plain": [
       "     category                                           headline  \\\n",
       "2613    polit  The Venezuelan government escaped a condemnati...   \n",
       "118     polit  South Dakota Congressional Candidate Said Terr...   \n",
       "904   economi                   Chamber welcomes Budget measures   \n",
       "1516    other  Chile Ã¯Â¿Â½Ã¯Â¿Â½ World Ã¯Â¿Â½Ã¯Â¿Â½ Technolo...   \n",
       "89      polit  Retiring Lawmakers Have Added $32.8 Million To...   \n",
       "\n",
       "                                        first_paragraph  \\\n",
       "2613                                                NaN   \n",
       "118   State Sen. Neal Tapio was the state director f...   \n",
       "904   \"Following the delivery of the National Budget...   \n",
       "1516                                                NaN   \n",
       "89    By Frank Bass, MapLight More than five dozen c...   \n",
       "\n",
       "                                             clean_text  \n",
       "2613  venezuelan government escaped condemnation gen...  \n",
       "118   south dakota congressional candidate said terr...  \n",
       "904                    chamber welcomes budget measures  \n",
       "1516  chile world technology education documents mul...  \n",
       "89    retiring lawmakers added million campaign trea...  "
      ]
     },
     "execution_count": 10,
     "metadata": {},
     "output_type": "execute_result"
    }
   ],
   "source": [
    "df_news['clean_text'] = df_news['headline'].map(preprocess)\n",
    "\n",
    "df_news.sample(5)"
   ]
  },
  {
   "cell_type": "code",
   "execution_count": 11,
   "metadata": {},
   "outputs": [
    {
     "data": {
      "text/html": [
       "<div>\n",
       "<style scoped>\n",
       "    .dataframe tbody tr th:only-of-type {\n",
       "        vertical-align: middle;\n",
       "    }\n",
       "\n",
       "    .dataframe tbody tr th {\n",
       "        vertical-align: top;\n",
       "    }\n",
       "\n",
       "    .dataframe thead th {\n",
       "        text-align: right;\n",
       "    }\n",
       "</style>\n",
       "<table border=\"1\" class=\"dataframe\">\n",
       "  <thead>\n",
       "    <tr style=\"text-align: right;\">\n",
       "      <th></th>\n",
       "      <th>tokens</th>\n",
       "      <th>counts</th>\n",
       "    </tr>\n",
       "  </thead>\n",
       "  <tbody>\n",
       "    <tr>\n",
       "      <th>673</th>\n",
       "      <td>brazil</td>\n",
       "      <td>203</td>\n",
       "    </tr>\n",
       "    <tr>\n",
       "      <th>4703</th>\n",
       "      <td>venezuela</td>\n",
       "      <td>198</td>\n",
       "    </tr>\n",
       "    <tr>\n",
       "      <th>2753</th>\n",
       "      <td>news</td>\n",
       "      <td>177</td>\n",
       "    </tr>\n",
       "    <tr>\n",
       "      <th>1080</th>\n",
       "      <td>colombia</td>\n",
       "      <td>142</td>\n",
       "    </tr>\n",
       "    <tr>\n",
       "      <th>4912</th>\n",
       "      <td>world</td>\n",
       "      <td>130</td>\n",
       "    </tr>\n",
       "    <tr>\n",
       "      <th>298</th>\n",
       "      <td>argentina</td>\n",
       "      <td>129</td>\n",
       "    </tr>\n",
       "    <tr>\n",
       "      <th>944</th>\n",
       "      <td>chile</td>\n",
       "      <td>122</td>\n",
       "    </tr>\n",
       "    <tr>\n",
       "      <th>4607</th>\n",
       "      <td>unemployment</td>\n",
       "      <td>119</td>\n",
       "    </tr>\n",
       "    <tr>\n",
       "      <th>2972</th>\n",
       "      <td>president</td>\n",
       "      <td>98</td>\n",
       "    </tr>\n",
       "    <tr>\n",
       "      <th>2891</th>\n",
       "      <td>peru</td>\n",
       "      <td>92</td>\n",
       "    </tr>\n",
       "  </tbody>\n",
       "</table>\n",
       "</div>"
      ],
      "text/plain": [
       "            tokens  counts\n",
       "673         brazil     203\n",
       "4703     venezuela     198\n",
       "2753          news     177\n",
       "1080      colombia     142\n",
       "4912         world     130\n",
       "298      argentina     129\n",
       "944          chile     122\n",
       "4607  unemployment     119\n",
       "2972     president      98\n",
       "2891          peru      92"
      ]
     },
     "execution_count": 11,
     "metadata": {},
     "output_type": "execute_result"
    }
   ],
   "source": [
    "# Important Features\n",
    "\n",
    "# n-gram level tf-idf \n",
    "tfidf = CountVectorizer(analyzer='word', token_pattern=r'\\w{1,}', ngram_range=(1,1), stop_words=stoplist, min_df=0.00, max_features=5000)\n",
    "tfidf.fit( df_news[\"clean_text\"] )\n",
    "x_tfidf = tfidf.transform( df_news[\"clean_text\"] )\n",
    "\n",
    "# Term-Frequency matrix\n",
    "features = pd.DataFrame()\n",
    "features[\"tokens\"] = tfidf.get_feature_names()\n",
    "features[\"counts\"] = x_tfidf.sum(axis=0).T\n",
    "\n",
    "features.sort_values(\"counts\", ascending=False)[:10]"
   ]
  },
  {
   "cell_type": "markdown",
   "metadata": {},
   "source": [
    "Parece que debemos quitar mas stopwords..."
   ]
  },
  {
   "cell_type": "code",
   "execution_count": 12,
   "metadata": {},
   "outputs": [],
   "source": [
    "from nltk.corpus import stopwords\n",
    "\n",
    "# Bring in the default English NLTK stop words\n",
    "stoplist = stopwords.words('english')\n",
    "\n",
    "# Define additional stopwords in a string\n",
    "additional_stopwords = \"\"\"\n",
    "brazil\n",
    "venezuela\n",
    "\"\"\"\n",
    "\n",
    "# Split the the additional stopwords string on each word and then add those words to the NLTK stopwords list\n",
    "stoplist += additional_stopwords.split()\n",
    "stoplist = set( stoplist ).union(gensim.parsing.preprocessing.STOPWORDS)"
   ]
  },
  {
   "cell_type": "code",
   "execution_count": 13,
   "metadata": {},
   "outputs": [
    {
     "data": {
      "text/html": [
       "<div>\n",
       "<style scoped>\n",
       "    .dataframe tbody tr th:only-of-type {\n",
       "        vertical-align: middle;\n",
       "    }\n",
       "\n",
       "    .dataframe tbody tr th {\n",
       "        vertical-align: top;\n",
       "    }\n",
       "\n",
       "    .dataframe thead th {\n",
       "        text-align: right;\n",
       "    }\n",
       "</style>\n",
       "<table border=\"1\" class=\"dataframe\">\n",
       "  <thead>\n",
       "    <tr style=\"text-align: right;\">\n",
       "      <th></th>\n",
       "      <th>category</th>\n",
       "      <th>headline</th>\n",
       "      <th>first_paragraph</th>\n",
       "      <th>clean_text</th>\n",
       "    </tr>\n",
       "  </thead>\n",
       "  <tbody>\n",
       "    <tr>\n",
       "      <th>1179</th>\n",
       "      <td>health</td>\n",
       "      <td>Feeling your oats: Whatâs best and healthy</td>\n",
       "      <td>You might have heard about the health benefits...</td>\n",
       "      <td>feeling oats whatâ best healthy</td>\n",
       "    </tr>\n",
       "    <tr>\n",
       "      <th>224</th>\n",
       "      <td>health</td>\n",
       "      <td>Even The Young And Invincible Need Health Insu...</td>\n",
       "      <td>All Andrew Blackshear did was breathe. Driving...</td>\n",
       "      <td>young invincible need health insurance</td>\n",
       "    </tr>\n",
       "    <tr>\n",
       "      <th>1714</th>\n",
       "      <td>other</td>\n",
       "      <td>Rodrigo Duterte, Marine Le Pen, Tribune Media:...</td>\n",
       "      <td>NaN</td>\n",
       "      <td>rodrigo duterte marine tribune media monday br...</td>\n",
       "    </tr>\n",
       "    <tr>\n",
       "      <th>1646</th>\n",
       "      <td>other</td>\n",
       "      <td>Argentina -Peru: the support in the Malvinas W...</td>\n",
       "      <td>NaN</td>\n",
       "      <td>argentina peru support malvinas betrayal tonig...</td>\n",
       "    </tr>\n",
       "    <tr>\n",
       "      <th>1568</th>\n",
       "      <td>crime</td>\n",
       "      <td>Opinion | How to Keep the FARC Guerrillas Out ...</td>\n",
       "      <td>NaN</td>\n",
       "      <td>opinion farc guerrillas fight</td>\n",
       "    </tr>\n",
       "  </tbody>\n",
       "</table>\n",
       "</div>"
      ],
      "text/plain": [
       "     category                                           headline  \\\n",
       "1179   health       Feeling your oats: Whatâs best and healthy   \n",
       "224    health  Even The Young And Invincible Need Health Insu...   \n",
       "1714    other  Rodrigo Duterte, Marine Le Pen, Tribune Media:...   \n",
       "1646    other  Argentina -Peru: the support in the Malvinas W...   \n",
       "1568    crime  Opinion | How to Keep the FARC Guerrillas Out ...   \n",
       "\n",
       "                                        first_paragraph  \\\n",
       "1179  You might have heard about the health benefits...   \n",
       "224   All Andrew Blackshear did was breathe. Driving...   \n",
       "1714                                                NaN   \n",
       "1646                                                NaN   \n",
       "1568                                                NaN   \n",
       "\n",
       "                                             clean_text  \n",
       "1179                    feeling oats whatâ best healthy  \n",
       "224              young invincible need health insurance  \n",
       "1714  rodrigo duterte marine tribune media monday br...  \n",
       "1646  argentina peru support malvinas betrayal tonig...  \n",
       "1568                      opinion farc guerrillas fight  "
      ]
     },
     "execution_count": 13,
     "metadata": {},
     "output_type": "execute_result"
    }
   ],
   "source": [
    "df_news['clean_text'] = df_news['headline'].map(preprocess)\n",
    "\n",
    "df_news.sample(5)"
   ]
  },
  {
   "cell_type": "code",
   "execution_count": 14,
   "metadata": {},
   "outputs": [
    {
     "name": "stderr",
     "output_type": "stream",
     "text": [
      "C:\\Users\\pablo\\Anaconda3\\lib\\site-packages\\sklearn\\feature_extraction\\text.py:286: UserWarning: Your stop_words may be inconsistent with your preprocessing. Tokenizing the stop words generated tokens ['pablo'] not in stop_words.\n",
      "  sorted(inconsistent))\n"
     ]
    },
    {
     "data": {
      "text/html": [
       "<div>\n",
       "<style scoped>\n",
       "    .dataframe tbody tr th:only-of-type {\n",
       "        vertical-align: middle;\n",
       "    }\n",
       "\n",
       "    .dataframe tbody tr th {\n",
       "        vertical-align: top;\n",
       "    }\n",
       "\n",
       "    .dataframe thead th {\n",
       "        text-align: right;\n",
       "    }\n",
       "</style>\n",
       "<table border=\"1\" class=\"dataframe\">\n",
       "  <thead>\n",
       "    <tr style=\"text-align: right;\">\n",
       "      <th></th>\n",
       "      <th>tokens</th>\n",
       "      <th>counts</th>\n",
       "    </tr>\n",
       "  </thead>\n",
       "  <tbody>\n",
       "    <tr>\n",
       "      <th>2755</th>\n",
       "      <td>news</td>\n",
       "      <td>177</td>\n",
       "    </tr>\n",
       "    <tr>\n",
       "      <th>1078</th>\n",
       "      <td>colombia</td>\n",
       "      <td>142</td>\n",
       "    </tr>\n",
       "    <tr>\n",
       "      <th>4912</th>\n",
       "      <td>world</td>\n",
       "      <td>130</td>\n",
       "    </tr>\n",
       "    <tr>\n",
       "      <th>297</th>\n",
       "      <td>argentina</td>\n",
       "      <td>129</td>\n",
       "    </tr>\n",
       "    <tr>\n",
       "      <th>942</th>\n",
       "      <td>chile</td>\n",
       "      <td>122</td>\n",
       "    </tr>\n",
       "    <tr>\n",
       "      <th>4610</th>\n",
       "      <td>unemployment</td>\n",
       "      <td>119</td>\n",
       "    </tr>\n",
       "    <tr>\n",
       "      <th>2974</th>\n",
       "      <td>president</td>\n",
       "      <td>98</td>\n",
       "    </tr>\n",
       "    <tr>\n",
       "      <th>2893</th>\n",
       "      <td>peru</td>\n",
       "      <td>92</td>\n",
       "    </tr>\n",
       "    <tr>\n",
       "      <th>4541</th>\n",
       "      <td>trump</td>\n",
       "      <td>91</td>\n",
       "    </tr>\n",
       "    <tr>\n",
       "      <th>1167</th>\n",
       "      <td>country</td>\n",
       "      <td>90</td>\n",
       "    </tr>\n",
       "  </tbody>\n",
       "</table>\n",
       "</div>"
      ],
      "text/plain": [
       "            tokens  counts\n",
       "2755          news     177\n",
       "1078      colombia     142\n",
       "4912         world     130\n",
       "297      argentina     129\n",
       "942          chile     122\n",
       "4610  unemployment     119\n",
       "2974     president      98\n",
       "2893          peru      92\n",
       "4541         trump      91\n",
       "1167       country      90"
      ]
     },
     "execution_count": 14,
     "metadata": {},
     "output_type": "execute_result"
    }
   ],
   "source": [
    "# Important Features\n",
    "\n",
    "# n-gram level tf-idf \n",
    "tfidf = CountVectorizer(analyzer='word', token_pattern=r'\\w{1,}', ngram_range=(1,1), stop_words=stoplist, min_df=0.00, max_features=5000)\n",
    "tfidf.fit( df_news[\"clean_text\"] )\n",
    "x_tfidf = tfidf.transform( df_news[\"clean_text\"] )\n",
    "\n",
    "# Term-Frequency matrix\n",
    "features = pd.DataFrame()\n",
    "features[\"tokens\"] = tfidf.get_feature_names()\n",
    "features[\"counts\"] = x_tfidf.sum(axis=0).T\n",
    "\n",
    "features.sort_values(\"counts\", ascending=False)[:10]"
   ]
  },
  {
   "cell_type": "code",
   "execution_count": 15,
   "metadata": {},
   "outputs": [
    {
     "data": {
      "image/png": "[encoded data removed]",
      "text/plain": [
       "<matplotlib.figure.Figure at 0x19ba122eba8>"
      ]
     },
     "metadata": {},
     "output_type": "display_data"
    }
   ],
   "source": [
    "# Creo el dataset features\n",
    "features = pd.DataFrame()\n",
    "features[\"Feature\"] = tfidf.get_feature_names()\n",
    "features[\"Score\"] = x_tfidf.mean(axis=0).T\n",
    "features.sort_values(\"Score\", ascending=False)[:20].plot(kind=\"bar\", x=\"Feature\", figsize=(10,6))\n",
    "plt.xticks(fontsize=12, rotation=60)\n",
    "plt.yticks(fontsize=10)\n",
    "plt.show()"
   ]
  },
  {
   "cell_type": "code",
   "execution_count": 16,
   "metadata": {},
   "outputs": [],
   "source": [
    "# split the dataset into training and validation datasets, using label proportions with \"stratify\"\n",
    "train_x, valid_x, train_y, valid_y = model_selection.train_test_split(df_news['clean_text'], df_news['category'], stratify=df_news['category'], test_size=0.3)"
   ]
  },
  {
   "cell_type": "code",
   "execution_count": 17,
   "metadata": {},
   "outputs": [
    {
     "name": "stderr",
     "output_type": "stream",
     "text": [
      "C:\\Users\\pablo\\Anaconda3\\lib\\site-packages\\sklearn\\feature_extraction\\text.py:286: UserWarning: Your stop_words may be inconsistent with your preprocessing. Tokenizing the stop words generated tokens ['pablo'] not in stop_words.\n",
      "  sorted(inconsistent))\n"
     ]
    },
    {
     "data": {
      "text/plain": [
       "(1868, 5000)"
      ]
     },
     "execution_count": 17,
     "metadata": {},
     "output_type": "execute_result"
    }
   ],
   "source": [
    "# n-gram level tf-idf \n",
    "tfidf = TfidfVectorizer(analyzer='word', token_pattern=r'\\w{1,}', ngram_range=(1,1), stop_words=stoplist, min_df=0.00, max_features=5000)\n",
    "tfidf.fit( train_x )\n",
    "train_x_tfidf = tfidf.transform( train_x )\n",
    "valid_x_tfidf = tfidf.transform( valid_x )\n",
    "\n",
    "train_x_tfidf.shape"
   ]
  },
  {
   "cell_type": "code",
   "execution_count": 18,
   "metadata": {},
   "outputs": [],
   "source": [
    "def train_model(classifier, feature_vector_train, label, feature_vector_valid, is_neural_net=False):\n",
    "    # fit the training dataset on the classifier\n",
    "    classifier.fit(feature_vector_train, label)\n",
    "    \n",
    "    # predict the labels on validation dataset\n",
    "    predictions = classifier.predict(feature_vector_valid)\n",
    "    \n",
    "    if is_neural_net:\n",
    "        predictions = predictions.argmax(axis=-1)\n",
    "    \n",
    "    return metrics.accuracy_score(predictions, valid_y)"
   ]
  },
  {
   "cell_type": "code",
   "execution_count": 19,
   "metadata": {},
   "outputs": [
    {
     "name": "stdout",
     "output_type": "stream",
     "text": [
      "NB, Count Vectors:  0.6604244694132334\n"
     ]
    }
   ],
   "source": [
    "# Naive Bayes on Count Vectors\n",
    "accuracy = train_model(naive_bayes.MultinomialNB(), train_x_tfidf, train_y, valid_x_tfidf)\n",
    "print(\"NB, Count Vectors: \", accuracy)"
   ]
  },
  {
   "cell_type": "code",
   "execution_count": 20,
   "metadata": {},
   "outputs": [
    {
     "name": "stdout",
     "output_type": "stream",
     "text": [
      "NB, Count Vectors:  0.6279650436953808\n"
     ]
    },
    {
     "name": "stderr",
     "output_type": "stream",
     "text": [
      "C:\\Users\\pablo\\Anaconda3\\lib\\site-packages\\sklearn\\ensemble\\forest.py:248: FutureWarning: The default value of n_estimators will change from 10 in version 0.20 to 100 in 0.22.\n",
      "  \"10 in version 0.20 to 100 in 0.22.\", FutureWarning)\n"
     ]
    }
   ],
   "source": [
    "# Naive Bayes on Count Vectors\n",
    "accuracy = train_model(ensemble.RandomForestClassifier(), train_x_tfidf, train_y, valid_x_tfidf)\n",
    "print(\"NB, Count Vectors: \", accuracy)"
   ]
  },
  {
   "cell_type": "code",
   "execution_count": null,
   "metadata": {},
   "outputs": [],
   "source": []
  }
 ],
 "metadata": {
  "kernelspec": {
   "display_name": "Python 3",
   "language": "python",
   "name": "python3"
  },
  "language_info": {
   "codemirror_mode": {
    "name": "ipython",
    "version": 3
   },
   "file_extension": ".py",
   "mimetype": "text/x-python",
   "name": "python",
   "nbconvert_exporter": "python",
   "pygments_lexer": "ipython3",
   "version": "3.6.4"
  },
  "toc": {
   "base_numbering": 1,
   "nav_menu": {},
   "number_sections": true,
   "sideBar": true,
   "skip_h1_title": false,
   "title_cell": "Table of Contents",
   "title_sidebar": "Contents",
   "toc_cell": false,
   "toc_position": {},
   "toc_section_display": true,
   "toc_window_display": false
  }
 },
 "nbformat": 4,
 "nbformat_minor": 2
}
