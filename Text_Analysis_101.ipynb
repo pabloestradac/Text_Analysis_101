{
 "cells": [
  {
   "cell_type": "markdown",
   "metadata": {},
   "source": [
    "# Text Mining and Analysis"
   ]
  },
  {
   "cell_type": "code",
   "execution_count": 29,
   "metadata": {},
   "outputs": [],
   "source": [
    "from nltk.corpus import stopwords\n",
    "from nltk.tokenize import word_tokenize\n",
    "from nltk.stem import PorterStemmer\n",
    "\n",
    "# libraries for dataset preparation, feature engineering, model training\n",
    "from sklearn import model_selection, preprocessing, linear_model, naive_bayes, metrics, svm\n",
    "from sklearn.feature_extraction.text import TfidfVectorizer, CountVectorizer\n",
    "from sklearn import decomposition, ensemble\n",
    "\n",
    "import pandas as pd\n",
    "import numpy as np"
   ]
  },
  {
   "cell_type": "code",
   "execution_count": 6,
   "metadata": {},
   "outputs": [
    {
     "name": "stdout",
     "output_type": "stream",
     "text": [
      "-------------------------\n"
     ]
    }
   ],
   "source": [
    "# libraries for dataset preparation, feature engineering, model training\n",
    "from sklearn.feature_extraction.text import TfidfVectorizer, CountVectorizer\n",
    "from sklearn import decomposition\n",
    "# from TextProcessor import *\n",
    "\n",
    "# Load libraries\n",
    "import pandas as pd\n",
    "import numpy as np\n",
    "import matplotlib.pyplot as plt\n",
    "\n",
    "# Ignoring warnings\n",
    "import warnings\n",
    "warnings.filterwarnings('ignore')\n",
    "print('-'*25)\n",
    "\n",
    "# Configuring visualizations\n",
    "%config InlineBackend.figure_format = 'retina'\n",
    "%matplotlib inline"
   ]
  },
  {
   "cell_type": "code",
   "execution_count": 7,
   "metadata": {},
   "outputs": [
    {
     "name": "stdout",
     "output_type": "stream",
     "text": [
      "[nltk_data] Downloading package wordnet to\n",
      "[nltk_data]     C:\\Users\\pablo\\AppData\\Roaming\\nltk_data...\n",
      "[nltk_data]   Package wordnet is already up-to-date!\n"
     ]
    },
    {
     "data": {
      "text/plain": [
       "True"
      ]
     },
     "execution_count": 7,
     "metadata": {},
     "output_type": "execute_result"
    }
   ],
   "source": [
    "import gensim\n",
    "from gensim.utils import simple_preprocess\n",
    "from gensim.parsing.preprocessing import STOPWORDS\n",
    "\n",
    "np.random.seed(2019)\n",
    "import nltk\n",
    "nltk.download('wordnet')"
   ]
  },
  {
   "cell_type": "code",
   "execution_count": 19,
   "metadata": {},
   "outputs": [
    {
     "data": {
      "text/html": [
       "<div>\n",
       "<style scoped>\n",
       "    .dataframe tbody tr th:only-of-type {\n",
       "        vertical-align: middle;\n",
       "    }\n",
       "\n",
       "    .dataframe tbody tr th {\n",
       "        vertical-align: top;\n",
       "    }\n",
       "\n",
       "    .dataframe thead th {\n",
       "        text-align: right;\n",
       "    }\n",
       "</style>\n",
       "<table border=\"1\" class=\"dataframe\">\n",
       "  <thead>\n",
       "    <tr style=\"text-align: right;\">\n",
       "      <th></th>\n",
       "      <th>category</th>\n",
       "      <th>headline</th>\n",
       "      <th>first_paragraph</th>\n",
       "    </tr>\n",
       "  </thead>\n",
       "  <tbody>\n",
       "    <tr>\n",
       "      <th>0</th>\n",
       "      <td>polit</td>\n",
       "      <td>Trump's Crackdown On Immigrant Parents Puts Mo...</td>\n",
       "      <td>Last month a Health and Human Services officia...</td>\n",
       "    </tr>\n",
       "    <tr>\n",
       "      <th>1</th>\n",
       "      <td>polit</td>\n",
       "      <td>Trump's Son Should Be Concerned': FBI Obtained...</td>\n",
       "      <td>The wiretaps feature conversations between Ale...</td>\n",
       "    </tr>\n",
       "    <tr>\n",
       "      <th>2</th>\n",
       "      <td>polit</td>\n",
       "      <td>Edward Snowden: There's No One Trump Loves Mor...</td>\n",
       "      <td>But don't count on Robert Mueller to nail him,...</td>\n",
       "    </tr>\n",
       "    <tr>\n",
       "      <th>3</th>\n",
       "      <td>polit</td>\n",
       "      <td>Booyah: Obama Photographer Hilariously Trolls ...</td>\n",
       "      <td>Just a peeping minute.</td>\n",
       "    </tr>\n",
       "    <tr>\n",
       "      <th>4</th>\n",
       "      <td>polit</td>\n",
       "      <td>Ireland Votes To Repeal Abortion Amendment In ...</td>\n",
       "      <td>Irish women will no longer have to travel to t...</td>\n",
       "    </tr>\n",
       "  </tbody>\n",
       "</table>\n",
       "</div>"
      ],
      "text/plain": [
       "  category                                           headline  \\\n",
       "0    polit  Trump's Crackdown On Immigrant Parents Puts Mo...   \n",
       "1    polit  Trump's Son Should Be Concerned': FBI Obtained...   \n",
       "2    polit  Edward Snowden: There's No One Trump Loves Mor...   \n",
       "3    polit  Booyah: Obama Photographer Hilariously Trolls ...   \n",
       "4    polit  Ireland Votes To Repeal Abortion Amendment In ...   \n",
       "\n",
       "                                     first_paragraph  \n",
       "0  Last month a Health and Human Services officia...  \n",
       "1  The wiretaps feature conversations between Ale...  \n",
       "2  But don't count on Robert Mueller to nail him,...  \n",
       "3                             Just a peeping minute.  \n",
       "4  Irish women will no longer have to travel to t...  "
      ]
     },
     "execution_count": 19,
     "metadata": {},
     "output_type": "execute_result"
    }
   ],
   "source": [
    "df_news = pd.read_csv(\"training_news.csv\", encoding=\"latin1\")\n",
    "df_news.head()"
   ]
  },
  {
   "cell_type": "code",
   "execution_count": 20,
   "metadata": {},
   "outputs": [
    {
     "data": {
      "text/plain": [
       "polit       484\n",
       "health      433\n",
       "economi     389\n",
       "crime       385\n",
       "other       318\n",
       "educ        313\n",
       "unemploy    194\n",
       "corrupt     130\n",
       "hunger       23\n",
       "Name: category, dtype: int64"
      ]
     },
     "execution_count": 20,
     "metadata": {},
     "output_type": "execute_result"
    }
   ],
   "source": [
    "df_news.category.value_counts()"
   ]
  },
  {
   "cell_type": "code",
   "execution_count": 21,
   "metadata": {},
   "outputs": [],
   "source": [
    "# English version\n",
    "stoplist = gensim.parsing.preprocessing.STOPWORDS\n",
    "\n",
    "def preprocess(text):\n",
    "    result = []\n",
    "    for token in gensim.utils.simple_preprocess(text):\n",
    "        if token not in stoplist and len(token) > 3:\n",
    "            result.append(token) \n",
    "    result = \" \".join(result)\n",
    "    return result"
   ]
  },
  {
   "cell_type": "code",
   "execution_count": 24,
   "metadata": {},
   "outputs": [
    {
     "data": {
      "text/html": [
       "<div>\n",
       "<style scoped>\n",
       "    .dataframe tbody tr th:only-of-type {\n",
       "        vertical-align: middle;\n",
       "    }\n",
       "\n",
       "    .dataframe tbody tr th {\n",
       "        vertical-align: top;\n",
       "    }\n",
       "\n",
       "    .dataframe thead th {\n",
       "        text-align: right;\n",
       "    }\n",
       "</style>\n",
       "<table border=\"1\" class=\"dataframe\">\n",
       "  <thead>\n",
       "    <tr style=\"text-align: right;\">\n",
       "      <th></th>\n",
       "      <th>category</th>\n",
       "      <th>headline</th>\n",
       "      <th>first_paragraph</th>\n",
       "      <th>clean_text</th>\n",
       "    </tr>\n",
       "  </thead>\n",
       "  <tbody>\n",
       "    <tr>\n",
       "      <th>1132</th>\n",
       "      <td>health</td>\n",
       "      <td>Government accepts 'debilitating' effects of m...</td>\n",
       "      <td>Patients have suffered âdebilitating consequ...</td>\n",
       "      <td>government accepts debilitating effects medica...</td>\n",
       "    </tr>\n",
       "    <tr>\n",
       "      <th>96</th>\n",
       "      <td>polit</td>\n",
       "      <td>Pennsylvania's Congressional Delegation Will N...</td>\n",
       "      <td>It looks like at least one woman will be headi...</td>\n",
       "      <td>pennsylvania congressional delegation longer</td>\n",
       "    </tr>\n",
       "    <tr>\n",
       "      <th>2496</th>\n",
       "      <td>economi</td>\n",
       "      <td>For this year the Government has allocated $ 5...</td>\n",
       "      <td>NaN</td>\n",
       "      <td>year government allocated million public bank ...</td>\n",
       "    </tr>\n",
       "    <tr>\n",
       "      <th>343</th>\n",
       "      <td>educ</td>\n",
       "      <td>Texas District Says Students Protesting Gun Vi...</td>\n",
       "      <td>\"A disruption of the school will not be tolera...</td>\n",
       "      <td>texas district says students protesting violen...</td>\n",
       "    </tr>\n",
       "    <tr>\n",
       "      <th>644</th>\n",
       "      <td>unemploy</td>\n",
       "      <td>Cabrera questions 5.8% unemployment data</td>\n",
       "      <td>VinÂ­cent CabrÂ­era, presÂ­iÂ­dent, Bankers In...</td>\n",
       "      <td>cabrera questions unemployment data</td>\n",
       "    </tr>\n",
       "  </tbody>\n",
       "</table>\n",
       "</div>"
      ],
      "text/plain": [
       "      category                                           headline  \\\n",
       "1132    health  Government accepts 'debilitating' effects of m...   \n",
       "96       polit  Pennsylvania's Congressional Delegation Will N...   \n",
       "2496   economi  For this year the Government has allocated $ 5...   \n",
       "343       educ  Texas District Says Students Protesting Gun Vi...   \n",
       "644   unemploy           Cabrera questions 5.8% unemployment data   \n",
       "\n",
       "                                        first_paragraph  \\\n",
       "1132  Patients have suffered âdebilitating consequ...   \n",
       "96    It looks like at least one woman will be headi...   \n",
       "2496                                                NaN   \n",
       "343   \"A disruption of the school will not be tolera...   \n",
       "644   VinÂ­cent CabrÂ­era, presÂ­iÂ­dent, Bankers In...   \n",
       "\n",
       "                                             clean_text  \n",
       "1132  government accepts debilitating effects medica...  \n",
       "96         pennsylvania congressional delegation longer  \n",
       "2496  year government allocated million public bank ...  \n",
       "343   texas district says students protesting violen...  \n",
       "644                 cabrera questions unemployment data  "
      ]
     },
     "execution_count": 24,
     "metadata": {},
     "output_type": "execute_result"
    }
   ],
   "source": [
    "df_news['clean_text'] = df_news['headline'].map(preprocess)\n",
    "\n",
    "df_news.sample(5)"
   ]
  },
  {
   "cell_type": "code",
   "execution_count": 25,
   "metadata": {},
   "outputs": [
    {
     "data": {
      "text/html": [
       "<div>\n",
       "<style scoped>\n",
       "    .dataframe tbody tr th:only-of-type {\n",
       "        vertical-align: middle;\n",
       "    }\n",
       "\n",
       "    .dataframe tbody tr th {\n",
       "        vertical-align: top;\n",
       "    }\n",
       "\n",
       "    .dataframe thead th {\n",
       "        text-align: right;\n",
       "    }\n",
       "</style>\n",
       "<table border=\"1\" class=\"dataframe\">\n",
       "  <thead>\n",
       "    <tr style=\"text-align: right;\">\n",
       "      <th></th>\n",
       "      <th>tokens</th>\n",
       "      <th>counts</th>\n",
       "    </tr>\n",
       "  </thead>\n",
       "  <tbody>\n",
       "    <tr>\n",
       "      <th>673</th>\n",
       "      <td>brazil</td>\n",
       "      <td>203</td>\n",
       "    </tr>\n",
       "    <tr>\n",
       "      <th>4703</th>\n",
       "      <td>venezuela</td>\n",
       "      <td>198</td>\n",
       "    </tr>\n",
       "    <tr>\n",
       "      <th>2753</th>\n",
       "      <td>news</td>\n",
       "      <td>177</td>\n",
       "    </tr>\n",
       "    <tr>\n",
       "      <th>1080</th>\n",
       "      <td>colombia</td>\n",
       "      <td>142</td>\n",
       "    </tr>\n",
       "    <tr>\n",
       "      <th>4912</th>\n",
       "      <td>world</td>\n",
       "      <td>130</td>\n",
       "    </tr>\n",
       "    <tr>\n",
       "      <th>298</th>\n",
       "      <td>argentina</td>\n",
       "      <td>129</td>\n",
       "    </tr>\n",
       "    <tr>\n",
       "      <th>944</th>\n",
       "      <td>chile</td>\n",
       "      <td>122</td>\n",
       "    </tr>\n",
       "    <tr>\n",
       "      <th>4607</th>\n",
       "      <td>unemployment</td>\n",
       "      <td>119</td>\n",
       "    </tr>\n",
       "    <tr>\n",
       "      <th>2972</th>\n",
       "      <td>president</td>\n",
       "      <td>98</td>\n",
       "    </tr>\n",
       "    <tr>\n",
       "      <th>2891</th>\n",
       "      <td>peru</td>\n",
       "      <td>92</td>\n",
       "    </tr>\n",
       "  </tbody>\n",
       "</table>\n",
       "</div>"
      ],
      "text/plain": [
       "            tokens  counts\n",
       "673         brazil     203\n",
       "4703     venezuela     198\n",
       "2753          news     177\n",
       "1080      colombia     142\n",
       "4912         world     130\n",
       "298      argentina     129\n",
       "944          chile     122\n",
       "4607  unemployment     119\n",
       "2972     president      98\n",
       "2891          peru      92"
      ]
     },
     "execution_count": 25,
     "metadata": {},
     "output_type": "execute_result"
    }
   ],
   "source": [
    "# Important Features\n",
    "\n",
    "# n-gram level tf-idf \n",
    "tfidf = CountVectorizer(analyzer='word', token_pattern=r'\\w{1,}', ngram_range=(1,1), stop_words=stoplist, min_df=0.00, max_features=5000)\n",
    "tfidf.fit( df_news[\"clean_text\"] )\n",
    "x_tfidf = tfidf.transform( df_news[\"clean_text\"] )\n",
    "\n",
    "# Term-Frequency matrix\n",
    "features = pd.DataFrame()\n",
    "features[\"tokens\"] = tfidf.get_feature_names()\n",
    "features[\"counts\"] = x_tfidf.sum(axis=0).T\n",
    "\n",
    "features.sort_values(\"counts\", ascending=False)[:10]"
   ]
  },
  {
   "cell_type": "markdown",
   "metadata": {},
   "source": [
    "Parece que debemos quitar mas stopwords..."
   ]
  },
  {
   "cell_type": "code",
   "execution_count": null,
   "metadata": {},
   "outputs": [],
   "source": [
    "from nltk.corpus import stopwords\n",
    "\n",
    "# Bring in the default English NLTK stop words\n",
    "stoplist = stopwords.words('english')\n",
    "\n",
    "# Define additional stopwords in a string\n",
    "additional_stopwords = \"\"\"\n",
    "brazil\n",
    "... resto ...\n",
    "\"\"\"\n",
    "\n",
    "# Split the the additional stopwords string on each word and then add those words to the NLTK stopwords list\n",
    "stoplist += additional_stopwords.split()\n",
    "stoplist = set( stoplist ).union(gensim.parsing.preprocessing.STOPWORDS)"
   ]
  },
  {
   "cell_type": "code",
   "execution_count": 24,
   "metadata": {},
   "outputs": [
    {
     "data": {
      "text/html": [
       "<div>\n",
       "<style scoped>\n",
       "    .dataframe tbody tr th:only-of-type {\n",
       "        vertical-align: middle;\n",
       "    }\n",
       "\n",
       "    .dataframe tbody tr th {\n",
       "        vertical-align: top;\n",
       "    }\n",
       "\n",
       "    .dataframe thead th {\n",
       "        text-align: right;\n",
       "    }\n",
       "</style>\n",
       "<table border=\"1\" class=\"dataframe\">\n",
       "  <thead>\n",
       "    <tr style=\"text-align: right;\">\n",
       "      <th></th>\n",
       "      <th>category</th>\n",
       "      <th>headline</th>\n",
       "      <th>first_paragraph</th>\n",
       "      <th>clean_text</th>\n",
       "    </tr>\n",
       "  </thead>\n",
       "  <tbody>\n",
       "    <tr>\n",
       "      <th>1132</th>\n",
       "      <td>health</td>\n",
       "      <td>Government accepts 'debilitating' effects of m...</td>\n",
       "      <td>Patients have suffered âdebilitating consequ...</td>\n",
       "      <td>government accepts debilitating effects medica...</td>\n",
       "    </tr>\n",
       "    <tr>\n",
       "      <th>96</th>\n",
       "      <td>polit</td>\n",
       "      <td>Pennsylvania's Congressional Delegation Will N...</td>\n",
       "      <td>It looks like at least one woman will be headi...</td>\n",
       "      <td>pennsylvania congressional delegation longer</td>\n",
       "    </tr>\n",
       "    <tr>\n",
       "      <th>2496</th>\n",
       "      <td>economi</td>\n",
       "      <td>For this year the Government has allocated $ 5...</td>\n",
       "      <td>NaN</td>\n",
       "      <td>year government allocated million public bank ...</td>\n",
       "    </tr>\n",
       "    <tr>\n",
       "      <th>343</th>\n",
       "      <td>educ</td>\n",
       "      <td>Texas District Says Students Protesting Gun Vi...</td>\n",
       "      <td>\"A disruption of the school will not be tolera...</td>\n",
       "      <td>texas district says students protesting violen...</td>\n",
       "    </tr>\n",
       "    <tr>\n",
       "      <th>644</th>\n",
       "      <td>unemploy</td>\n",
       "      <td>Cabrera questions 5.8% unemployment data</td>\n",
       "      <td>VinÂ­cent CabrÂ­era, presÂ­iÂ­dent, Bankers In...</td>\n",
       "      <td>cabrera questions unemployment data</td>\n",
       "    </tr>\n",
       "  </tbody>\n",
       "</table>\n",
       "</div>"
      ],
      "text/plain": [
       "      category                                           headline  \\\n",
       "1132    health  Government accepts 'debilitating' effects of m...   \n",
       "96       polit  Pennsylvania's Congressional Delegation Will N...   \n",
       "2496   economi  For this year the Government has allocated $ 5...   \n",
       "343       educ  Texas District Says Students Protesting Gun Vi...   \n",
       "644   unemploy           Cabrera questions 5.8% unemployment data   \n",
       "\n",
       "                                        first_paragraph  \\\n",
       "1132  Patients have suffered âdebilitating consequ...   \n",
       "96    It looks like at least one woman will be headi...   \n",
       "2496                                                NaN   \n",
       "343   \"A disruption of the school will not be tolera...   \n",
       "644   VinÂ­cent CabrÂ­era, presÂ­iÂ­dent, Bankers In...   \n",
       "\n",
       "                                             clean_text  \n",
       "1132  government accepts debilitating effects medica...  \n",
       "96         pennsylvania congressional delegation longer  \n",
       "2496  year government allocated million public bank ...  \n",
       "343   texas district says students protesting violen...  \n",
       "644                 cabrera questions unemployment data  "
      ]
     },
     "execution_count": 24,
     "metadata": {},
     "output_type": "execute_result"
    }
   ],
   "source": [
    "df_news['clean_text'] = df_news['headline'].map(preprocess)\n",
    "\n",
    "df_news.sample(5)"
   ]
  },
  {
   "cell_type": "code",
   "execution_count": 40,
   "metadata": {},
   "outputs": [
    {
     "data": {
      "text/html": [
       "<div>\n",
       "<style scoped>\n",
       "    .dataframe tbody tr th:only-of-type {\n",
       "        vertical-align: middle;\n",
       "    }\n",
       "\n",
       "    .dataframe tbody tr th {\n",
       "        vertical-align: top;\n",
       "    }\n",
       "\n",
       "    .dataframe thead th {\n",
       "        text-align: right;\n",
       "    }\n",
       "</style>\n",
       "<table border=\"1\" class=\"dataframe\">\n",
       "  <thead>\n",
       "    <tr style=\"text-align: right;\">\n",
       "      <th></th>\n",
       "      <th>tokens</th>\n",
       "      <th>counts</th>\n",
       "    </tr>\n",
       "  </thead>\n",
       "  <tbody>\n",
       "    <tr>\n",
       "      <th>673</th>\n",
       "      <td>brazil</td>\n",
       "      <td>203</td>\n",
       "    </tr>\n",
       "    <tr>\n",
       "      <th>4703</th>\n",
       "      <td>venezuela</td>\n",
       "      <td>198</td>\n",
       "    </tr>\n",
       "    <tr>\n",
       "      <th>2753</th>\n",
       "      <td>news</td>\n",
       "      <td>177</td>\n",
       "    </tr>\n",
       "    <tr>\n",
       "      <th>1080</th>\n",
       "      <td>colombia</td>\n",
       "      <td>142</td>\n",
       "    </tr>\n",
       "    <tr>\n",
       "      <th>4912</th>\n",
       "      <td>world</td>\n",
       "      <td>130</td>\n",
       "    </tr>\n",
       "    <tr>\n",
       "      <th>298</th>\n",
       "      <td>argentina</td>\n",
       "      <td>129</td>\n",
       "    </tr>\n",
       "    <tr>\n",
       "      <th>944</th>\n",
       "      <td>chile</td>\n",
       "      <td>122</td>\n",
       "    </tr>\n",
       "    <tr>\n",
       "      <th>4607</th>\n",
       "      <td>unemployment</td>\n",
       "      <td>119</td>\n",
       "    </tr>\n",
       "    <tr>\n",
       "      <th>2972</th>\n",
       "      <td>president</td>\n",
       "      <td>98</td>\n",
       "    </tr>\n",
       "    <tr>\n",
       "      <th>2891</th>\n",
       "      <td>peru</td>\n",
       "      <td>92</td>\n",
       "    </tr>\n",
       "  </tbody>\n",
       "</table>\n",
       "</div>"
      ],
      "text/plain": [
       "            tokens  counts\n",
       "673         brazil     203\n",
       "4703     venezuela     198\n",
       "2753          news     177\n",
       "1080      colombia     142\n",
       "4912         world     130\n",
       "298      argentina     129\n",
       "944          chile     122\n",
       "4607  unemployment     119\n",
       "2972     president      98\n",
       "2891          peru      92"
      ]
     },
     "execution_count": 40,
     "metadata": {},
     "output_type": "execute_result"
    }
   ],
   "source": [
    "# Important Features\n",
    "\n",
    "# n-gram level tf-idf \n",
    "tfidf = CountVectorizer(analyzer='word', token_pattern=r'\\w{1,}', ngram_range=(1,1), stop_words=stoplist, min_df=0.00, max_features=5000)\n",
    "tfidf.fit( df_news[\"clean_text\"] )\n",
    "x_tfidf = tfidf.transform( df_news[\"clean_text\"] )\n",
    "\n",
    "# Term-Frequency matrix\n",
    "features = pd.DataFrame()\n",
    "features[\"tokens\"] = tfidf.get_feature_names()\n",
    "features[\"counts\"] = x_tfidf.sum(axis=0).T\n",
    "\n",
    "features.sort_values(\"counts\", ascending=False)[:10]"
   ]
  },
  {
   "cell_type": "code",
   "execution_count": 41,
   "metadata": {},
   "outputs": [
    {
     "data": {
      "image/png": "[encoded data removed]",
      "text/plain": [
       "<matplotlib.figure.Figure at 0x27499b05400>"
      ]
     },
     "metadata": {
      "image/png": {
       "height": 447,
       "width": 603
      }
     },
     "output_type": "display_data"
    }
   ],
   "source": [
    "# Creo el dataset features\n",
    "features = pd.DataFrame()\n",
    "features[\"Feature\"] = tfidf.get_feature_names()\n",
    "features[\"Score\"] = x_tfidf.mean(axis=0).T\n",
    "features.sort_values(\"Score\", ascending=False)[:20].plot(kind=\"bar\", x=\"Feature\", figsize=(10,6))\n",
    "plt.xticks(fontsize=12, rotation=60)\n",
    "plt.yticks(fontsize=10)\n",
    "plt.show()"
   ]
  },
  {
   "cell_type": "code",
   "execution_count": 30,
   "metadata": {},
   "outputs": [],
   "source": [
    "# split the dataset into training and validation datasets, using label proportions with \"stratify\"\n",
    "train_x, valid_x, train_y, valid_y = model_selection.train_test_split(df_news['clean_text'], df_news['category'], stratify=df_news['category'], test_size=0.3)"
   ]
  },
  {
   "cell_type": "code",
   "execution_count": 35,
   "metadata": {},
   "outputs": [
    {
     "data": {
      "text/plain": [
       "(1868, 5000)"
      ]
     },
     "execution_count": 35,
     "metadata": {},
     "output_type": "execute_result"
    }
   ],
   "source": [
    "# n-gram level tf-idf \n",
    "tfidf = TfidfVectorizer(analyzer='word', token_pattern=r'\\w{1,}', ngram_range=(1,1), stop_words=stoplist, min_df=0.00, max_features=5000)\n",
    "tfidf.fit( train_x )\n",
    "train_x_tfidf = tfidf.transform( train_x )\n",
    "valid_x_tfidf = tfidf.transform( valid_x )\n",
    "\n",
    "train_x_tfidf.shape"
   ]
  },
  {
   "cell_type": "code",
   "execution_count": 36,
   "metadata": {},
   "outputs": [],
   "source": [
    "def train_model(classifier, feature_vector_train, label, feature_vector_valid, is_neural_net=False):\n",
    "    # fit the training dataset on the classifier\n",
    "    classifier.fit(feature_vector_train, label)\n",
    "    \n",
    "    # predict the labels on validation dataset\n",
    "    predictions = classifier.predict(feature_vector_valid)\n",
    "    \n",
    "    if is_neural_net:\n",
    "        predictions = predictions.argmax(axis=-1)\n",
    "    \n",
    "    return metrics.accuracy_score(predictions, valid_y)"
   ]
  },
  {
   "cell_type": "code",
   "execution_count": 37,
   "metadata": {},
   "outputs": [
    {
     "name": "stdout",
     "output_type": "stream",
     "text": [
      "NB, Count Vectors:  0.6916354556803995\n"
     ]
    }
   ],
   "source": [
    "# Naive Bayes on Count Vectors\n",
    "accuracy = train_model(naive_bayes.MultinomialNB(), train_x_tfidf, train_y, valid_x_tfidf)\n",
    "print(\"NB, Count Vectors: \", accuracy)"
   ]
  },
  {
   "cell_type": "code",
   "execution_count": 38,
   "metadata": {},
   "outputs": [
    {
     "name": "stdout",
     "output_type": "stream",
     "text": [
      "NB, Count Vectors:  0.6379525593008739\n"
     ]
    }
   ],
   "source": [
    "# Naive Bayes on Count Vectors\n",
    "accuracy = train_model(ensemble.RandomForestClassifier(), train_x_tfidf, train_y, valid_x_tfidf)\n",
    "print(\"NB, Count Vectors: \", accuracy)"
   ]
  },
  {
   "cell_type": "code",
   "execution_count": null,
   "metadata": {},
   "outputs": [],
   "source": []
  }
 ],
 "metadata": {
  "kernelspec": {
   "display_name": "Python 3",
   "language": "python",
   "name": "python3"
  },
  "language_info": {
   "codemirror_mode": {
    "name": "ipython",
    "version": 3
   },
   "file_extension": ".py",
   "mimetype": "text/x-python",
   "name": "python",
   "nbconvert_exporter": "python",
   "pygments_lexer": "ipython3",
   "version": "3.6.4"
  },
  "toc": {
   "base_numbering": 1,
   "nav_menu": {},
   "number_sections": true,
   "sideBar": true,
   "skip_h1_title": false,
   "title_cell": "Table of Contents",
   "title_sidebar": "Contents",
   "toc_cell": false,
   "toc_position": {},
   "toc_section_display": true,
   "toc_window_display": false
  }
 },
 "nbformat": 4,
 "nbformat_minor": 2
}
